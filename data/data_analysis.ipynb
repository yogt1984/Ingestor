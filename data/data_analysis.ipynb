import pandas as pd
import matplotlib.pyplot as plt
import glob

# Load latest parquet file
files = sorted(glob.glob('data/trades_*.parquet'))
df = pd.read_parquet(files[-1])

# Visualize
plt.plot(df['timestamp'], df['price'])
plt.xlabel("Timestamp")
plt.ylabel("Price")
plt.title("Price over time (Last 5 min)")
plt.grid()
plt.show()

